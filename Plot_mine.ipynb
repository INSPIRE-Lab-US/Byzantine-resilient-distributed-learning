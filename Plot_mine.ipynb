{
 "cells": [
  {
   "cell_type": "code",
   "execution_count": 2,
   "metadata": {},
   "outputs": [],
   "source": [
    "import pickle\n",
    "import matplotlib.pyplot as plt\n",
    "import numpy as np"
   ]
  },
  {
   "cell_type": "code",
   "execution_count": 4,
   "metadata": {
    "scrolled": false
   },
   "outputs": [
    {
     "output_type": "error",
     "ename": "FileNotFoundError",
     "evalue": "[Errno 2] No such file or directory: './result/Krum/result_Krum_b2_faultless_27.pickle'",
     "traceback": [
      "\u001b[0;31m---------------------------------------------------------------------------\u001b[0m",
      "\u001b[0;31mFileNotFoundError\u001b[0m                         Traceback (most recent call last)",
      "\u001b[0;32m<ipython-input-4-fc2924ec772e>\u001b[0m in \u001b[0;36m<module>\u001b[0;34m\u001b[0m\n\u001b[1;32m      7\u001b[0m         \u001b[0msmooth_krum_b2\u001b[0m\u001b[0;34m.\u001b[0m\u001b[0mappend\u001b[0m\u001b[0;34m(\u001b[0m\u001b[0mpickle\u001b[0m\u001b[0;34m.\u001b[0m\u001b[0mload\u001b[0m\u001b[0;34m(\u001b[0m\u001b[0mhandle\u001b[0m\u001b[0;34m)\u001b[0m\u001b[0;34m)\u001b[0m\u001b[0;34m\u001b[0m\u001b[0;34m\u001b[0m\u001b[0m\n\u001b[1;32m      8\u001b[0m \u001b[0;32mfor\u001b[0m \u001b[0mtest_round\u001b[0m \u001b[0;32min\u001b[0m \u001b[0mrange\u001b[0m\u001b[0;34m(\u001b[0m\u001b[0;36m50\u001b[0m\u001b[0;34m)\u001b[0m\u001b[0;34m:\u001b[0m\u001b[0;34m\u001b[0m\u001b[0;34m\u001b[0m\u001b[0m\n\u001b[0;32m----> 9\u001b[0;31m     \u001b[0;32mwith\u001b[0m \u001b[0mopen\u001b[0m\u001b[0;34m(\u001b[0m\u001b[0;34mf'./result/Krum/result_Krum_b2_faultless_{test_round}.pickle'\u001b[0m\u001b[0;34m,\u001b[0m \u001b[0;34m'rb'\u001b[0m\u001b[0;34m)\u001b[0m \u001b[0;32mas\u001b[0m \u001b[0mhandle\u001b[0m\u001b[0;34m:\u001b[0m\u001b[0;34m\u001b[0m\u001b[0;34m\u001b[0m\u001b[0m\n\u001b[0m\u001b[1;32m     10\u001b[0m         \u001b[0msmooth_krum_faultless\u001b[0m\u001b[0;34m.\u001b[0m\u001b[0mappend\u001b[0m\u001b[0;34m(\u001b[0m\u001b[0mpickle\u001b[0m\u001b[0;34m.\u001b[0m\u001b[0mload\u001b[0m\u001b[0;34m(\u001b[0m\u001b[0mhandle\u001b[0m\u001b[0;34m)\u001b[0m\u001b[0;34m)\u001b[0m\u001b[0;34m\u001b[0m\u001b[0;34m\u001b[0m\u001b[0m\n\u001b[1;32m     11\u001b[0m \u001b[0;34m\u001b[0m\u001b[0m\n",
      "\u001b[0;31mFileNotFoundError\u001b[0m: [Errno 2] No such file or directory: './result/Krum/result_Krum_b2_faultless_27.pickle'"
     ]
    }
   ],
   "source": [
    "#Plot Krum\n",
    "smooth_krum_faultless = []\n",
    "smooth_krum_b2 = []\n",
    "\n",
    "for test_round in range(10):\n",
    "    with open(f'./result/Krum/result_Krum_b2_{test_round}.pickle', 'rb') as handle:       \n",
    "        smooth_krum_b2.append(pickle.load(handle))\n",
    "for test_round in range(50):\n",
    "    try:\n",
    "        with open(f'./result/Krum/result_Krum_b2_faultless_{test_round}.pickle', 'rb') as handle:\n",
    "            smooth_krum_faultless.append(pickle.load(handle))\n",
    "    except FileNotFoundError:\n",
    "        pass\n",
    "\n",
    "krum_b2 = np.mean(smooth_krum_b2, axis=0)\n",
    "krum_faultless = np.mean(smooth_krum_faultless, axis=0)\n",
    "        \n",
    "\n",
    "DGD_axis = [7840 * t  for t in range(100)]\n",
    "\n",
    "byrdie_axis_200 = []\n",
    "for t in range(100):\n",
    "    for p in range(39):\n",
    "        byrdie_axis_200.append(t * 7840 + (p+1) * 200)\n",
    "    for p in range(10):\n",
    "        byrdie_axis_200.append((t+1) * 7840 + p)\n",
    "        \n",
    "    \n",
    "byrdie_axis_b1 = []\n",
    "for t in range(100):\n",
    "    for p in range(39):\n",
    "        byrdie_axis_b1.append(t * 7840 + (p+1) * 200)\n",
    "    for p in range(10, 11):\n",
    "        byrdie_axis_b1.append((t+1) * 7840 + p)\n",
    "\n",
    "byrdie_axis_b2 = []\n",
    "for t in range(100):\n",
    "    byrdie_axis_b2.append(t*(7480+10))\n",
    "\n",
    "        \n",
    "f = plt.figure(1)\n",
    "f.set_figheight(6)\n",
    "f.set_figwidth(15)\n",
    "\n",
    "plot_b0 = plt.subplot(1,2,1)\n",
    "#plt.plot(DGD_axis[:100], np.array(dgd_faultless[:100]) * 100, marker = 'v', markevery = 5)\n",
    "#plt.plot(byrdie_axis_b1[:3960], np.array(byrdie_faultless) * 100, marker = '.', markevery = 200)\n",
    "#plt.plot(DGD_axis[:100], np.array(bridge_faultless[:100]) * 100, marker = 'p', markevery = 5)\n",
    "# plt.plot(DGD_axis[:100], np.array(median_faultless[:100]) * 100, marker = 's', markevery = 5)\n",
    "plt.plot(DGD_axis[:100], np.array(krum_faultless[:100]) * 100, marker = '*', markevery = 5, color='m')\n",
    "# plt.plot(DGD_axis[:100], np.array(bulyan_faultless[:100]) * 100, marker = 'x', markevery = 5)\n",
    "plt.xlabel('Number of Scalars Broadcast per Node')\n",
    "plt.ylim(5,90)\n",
    "plt.ylabel('Average Classification Accuracy (%)')\n",
    "plt.legend(['Krum'], loc = 'right')\n",
    "# plot_b0.set_title('Network with no Byzantine node', y=-0.15)\n",
    "\n",
    "\n",
    "plot_b2 = plt.subplot(1,2,2)\n",
    "# plt.plot(DGD_axis, np.array(dgd_b2[:100]) * 100, marker = 'v', markevery = 5)\n",
    "# plt.plot(byrdie_axis_b2, byrdie_b2 * 100, marker = '.', markevery = 200)\n",
    "# plt.plot(DGD_axis[:100], np.array(bridge_b2[:100]) * 100, marker = 'p', markevery = 5)\n",
    "# plt.plot(DGD_axis[:100], np.array(median_b4[:100]) * 100, marker = 's', markevery = 5)\n",
    "plt.plot(DGD_axis[:100], np.array(krum_b2[:100]) * 100, marker = '*', markevery = 5, color='m')\n",
    "# plt.plot(DGD_axis[:100], np.array(bulyan_b2[:100]) * 100, marker = 'x', markevery = 5)\n",
    "plt.xlabel('Number of Scalars Broadcast per Node')\n",
    "plt.ylim(5,90)\n",
    "plt.ylabel('Average Classification Accuracy (%)')\n",
    "plt.legend(['Krum'], loc = 'right')\n",
    "# plot_b2.set_title('Network with 2 Byzantine nodes', y=-0.15)\n",
    "\n",
    "plt.show()"
   ]
  },
  {
   "cell_type": "code",
   "execution_count": null,
   "metadata": {},
   "outputs": [],
   "source": []
  }
 ],
 "metadata": {
  "kernelspec": {
   "display_name": "Python 3",
   "language": "python",
   "name": "python3"
  },
  "language_info": {
   "codemirror_mode": {
    "name": "ipython",
    "version": 3
   },
   "file_extension": ".py",
   "mimetype": "text/x-python",
   "name": "python",
   "nbconvert_exporter": "python",
   "pygments_lexer": "ipython3",
   "version": "3.7.7-final"
  }
 },
 "nbformat": 4,
 "nbformat_minor": 2
}