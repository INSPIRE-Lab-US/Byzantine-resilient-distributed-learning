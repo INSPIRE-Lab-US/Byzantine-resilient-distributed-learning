{
 "cells": [
  {
   "cell_type": "code",
   "execution_count": 2,
   "metadata": {},
   "outputs": [
    {
     "ename": "NameError",
     "evalue": "name 'bridge_faultless' is not defined",
     "output_type": "error",
     "traceback": [
      "\u001b[1;31m---------------------------------------------------------------------------\u001b[0m",
      "\u001b[1;31mNameError\u001b[0m                                 Traceback (most recent call last)",
      "\u001b[1;32m<ipython-input-2-8f04b4c6a53b>\u001b[0m in \u001b[0;36m<module>\u001b[1;34m\u001b[0m\n\u001b[0;32m     60\u001b[0m \u001b[0mplt\u001b[0m\u001b[1;33m.\u001b[0m\u001b[0mplot\u001b[0m\u001b[1;33m(\u001b[0m\u001b[0mDGD_axis\u001b[0m\u001b[1;33m[\u001b[0m\u001b[1;33m:\u001b[0m\u001b[1;36m100\u001b[0m\u001b[1;33m]\u001b[0m\u001b[1;33m,\u001b[0m \u001b[0mDGD_faultless\u001b[0m\u001b[1;33m[\u001b[0m\u001b[1;33m:\u001b[0m\u001b[1;36m100\u001b[0m\u001b[1;33m]\u001b[0m\u001b[1;33m,\u001b[0m \u001b[0mmarker\u001b[0m \u001b[1;33m=\u001b[0m \u001b[1;34m'v'\u001b[0m\u001b[1;33m,\u001b[0m \u001b[0mmarkevery\u001b[0m \u001b[1;33m=\u001b[0m \u001b[1;36m5\u001b[0m\u001b[1;33m)\u001b[0m\u001b[1;33m\u001b[0m\u001b[1;33m\u001b[0m\u001b[0m\n\u001b[0;32m     61\u001b[0m \u001b[0mplt\u001b[0m\u001b[1;33m.\u001b[0m\u001b[0mplot\u001b[0m\u001b[1;33m(\u001b[0m\u001b[0mbyrdie_axis_200\u001b[0m\u001b[1;33m,\u001b[0m \u001b[0mByRDiE_faultless\u001b[0m\u001b[1;33m,\u001b[0m \u001b[0mmarker\u001b[0m \u001b[1;33m=\u001b[0m \u001b[1;34m'.'\u001b[0m\u001b[1;33m,\u001b[0m \u001b[0mmarkevery\u001b[0m \u001b[1;33m=\u001b[0m \u001b[1;36m200\u001b[0m\u001b[1;33m)\u001b[0m\u001b[1;33m\u001b[0m\u001b[1;33m\u001b[0m\u001b[0m\n\u001b[1;32m---> 62\u001b[1;33m \u001b[0mplt\u001b[0m\u001b[1;33m.\u001b[0m\u001b[0mplot\u001b[0m\u001b[1;33m(\u001b[0m\u001b[0mDGD_axis\u001b[0m\u001b[1;33m[\u001b[0m\u001b[1;33m:\u001b[0m\u001b[1;36m100\u001b[0m\u001b[1;33m]\u001b[0m\u001b[1;33m,\u001b[0m \u001b[0mbridge_faultless\u001b[0m\u001b[1;33m[\u001b[0m\u001b[1;33m:\u001b[0m\u001b[1;36m100\u001b[0m\u001b[1;33m]\u001b[0m\u001b[1;33m,\u001b[0m \u001b[0mmarker\u001b[0m \u001b[1;33m=\u001b[0m \u001b[1;34m'p'\u001b[0m\u001b[1;33m,\u001b[0m \u001b[0mmarkevery\u001b[0m \u001b[1;33m=\u001b[0m \u001b[1;36m5\u001b[0m\u001b[1;33m)\u001b[0m\u001b[1;33m\u001b[0m\u001b[1;33m\u001b[0m\u001b[0m\n\u001b[0m\u001b[0;32m     63\u001b[0m \u001b[0mplt\u001b[0m\u001b[1;33m.\u001b[0m\u001b[0mplot\u001b[0m\u001b[1;33m(\u001b[0m\u001b[0mDGD_axis\u001b[0m\u001b[1;33m[\u001b[0m\u001b[1;33m:\u001b[0m\u001b[1;36m100\u001b[0m\u001b[1;33m]\u001b[0m\u001b[1;33m,\u001b[0m \u001b[0mmedian_faultless\u001b[0m\u001b[1;33m[\u001b[0m\u001b[1;33m:\u001b[0m\u001b[1;36m100\u001b[0m\u001b[1;33m]\u001b[0m\u001b[1;33m,\u001b[0m \u001b[0mmarker\u001b[0m \u001b[1;33m=\u001b[0m \u001b[1;34m's'\u001b[0m\u001b[1;33m,\u001b[0m \u001b[0mmarkevery\u001b[0m \u001b[1;33m=\u001b[0m \u001b[1;36m5\u001b[0m\u001b[1;33m)\u001b[0m\u001b[1;33m\u001b[0m\u001b[1;33m\u001b[0m\u001b[0m\n\u001b[0;32m     64\u001b[0m \u001b[0mplt\u001b[0m\u001b[1;33m.\u001b[0m\u001b[0mplot\u001b[0m\u001b[1;33m(\u001b[0m\u001b[0mDGD_axis\u001b[0m\u001b[1;33m[\u001b[0m\u001b[1;33m:\u001b[0m\u001b[1;36m100\u001b[0m\u001b[1;33m]\u001b[0m\u001b[1;33m,\u001b[0m \u001b[0mkrum_faultless\u001b[0m\u001b[1;33m[\u001b[0m\u001b[1;33m:\u001b[0m\u001b[1;36m100\u001b[0m\u001b[1;33m]\u001b[0m\u001b[1;33m,\u001b[0m \u001b[0mmarker\u001b[0m \u001b[1;33m=\u001b[0m \u001b[1;34m'*'\u001b[0m\u001b[1;33m,\u001b[0m \u001b[0mmarkevery\u001b[0m \u001b[1;33m=\u001b[0m \u001b[1;36m5\u001b[0m\u001b[1;33m)\u001b[0m\u001b[1;33m\u001b[0m\u001b[1;33m\u001b[0m\u001b[0m\n",
      "\u001b[1;31mNameError\u001b[0m: name 'bridge_faultless' is not defined"
     ]
    }
   ],
   "source": [
    "#plot\n",
    "\n",
    "import pickle\n",
    "import matplotlib.pyplot as plt\n",
    "\n",
    "# with open('result_BRIDGE_faultless.pickle', 'rb') as handle:\n",
    "#     bridge_faultless = pickle.load(handle)\n",
    "\n",
    "# with open('result_BRIDGE_b4.pickle', 'rb') as handle:\n",
    "#     bridge_b4 = pickle.load(handle)\n",
    "    \n",
    "with open('result_DGD_faultless.pickle', 'rb') as handle:\n",
    "    DGD_faultless = pickle.load(handle)  \n",
    "    \n",
    "with open('result_median_faultless.pickle', 'rb') as handle:\n",
    "    median_faultless = pickle.load(handle) \n",
    "    \n",
    "with open('result_median_b4.pickle', 'rb') as handle:\n",
    "    median_b4 = pickle.load(handle)  \n",
    "    \n",
    "with open('result_ByRDiE_b4.pickle', 'rb') as handle:\n",
    "    ByRDiE_b4 = pickle.load(handle) \n",
    "\n",
    "ByRDiE_b4 = np.mean(ByRDiE_b4, axis = 1)\n",
    "\n",
    "with open('result_ByRDiE_faultless.pickle', 'rb') as handle:\n",
    "    ByRDiE_faultless = pickle.load(handle) \n",
    "\n",
    "ByRDiE_faultless = np.mean(ByRDiE_faultless, axis = 1)\n",
    "\n",
    "\n",
    "# with open('result_DGD_b4.pickle', 'rb') as handle:\n",
    "#     DGD_b4 = pickle.load(handle)  \n",
    "\n",
    "# with open('result_krum_b2.pickle', 'rb') as handle:\n",
    "#     krum_b2 = pickle.load(handle) \n",
    "    \n",
    "# with open('result_krum_faultless.pickle', 'rb') as handle:\n",
    "#     krum_faultless = pickle.load(handle) \n",
    "    \n",
    "# with open('result_bulyan_b2.pickle', 'rb') as handle:\n",
    "#     bulyan_b2 = pickle.load(handle) \n",
    "    \n",
    "# with open('result_bulyan_faultless.pickle', 'rb') as handle:\n",
    "#     bulyan_faultless = pickle.load(handle) \n",
    "    \n",
    "byrdie_axis_200 = []\n",
    "for t in range(100):\n",
    "    for p in range(39):\n",
    "        byrdie_axis_200.append(t * 7840 + (p+1) * 200)\n",
    "    for p in range(10):\n",
    "        byrdie_axis_200.append((t+1) * 7840 + p)\n",
    "DGD_axis = [7840 * t  for t in range(100)]\n",
    "        \n",
    "f = plt.figure(1)\n",
    "f.set_figheight(6)\n",
    "f.set_figwidth(15)\n",
    "\n",
    "plot_b0 = plt.subplot(1,2,1)\n",
    "plt.plot(DGD_axis[:100], DGD_faultless[:100], marker = 'v', markevery = 5)\n",
    "plt.plot(byrdie_axis_200, ByRDiE_faultless, marker = '.', markevery = 200)\n",
    "plt.plot(DGD_axis[:100], bridge_faultless[:100], marker = 'p', markevery = 5)\n",
    "plt.plot(DGD_axis[:100], median_faultless[:100], marker = 's', markevery = 5)\n",
    "plt.plot(DGD_axis[:100], krum_faultless[:100], marker = '*', markevery = 5)\n",
    "plt.plot(DGD_axis[:100], bulyan_faultless[:100], marker = 'x', markevery = 5)\n",
    "plt.xlabel('Scalar messages broadcasted')\n",
    "plt.ylabel('Accuracy')\n",
    "plt.legend(['DGD', 'ByRDiE', 'BRIDGE', 'Median', 'Krum', 'Bulyan'], loc = 'right')\n",
    "plot_b0.set_title('(a) No Byzantine nodes with parameter b=2', y=-0.15)\n",
    "\n",
    "\n",
    "plot_b2 = plt.subplot(1,2,2)\n",
    "plt.plot(DGD_axis[:100], dgd_b2[:100], marker = 'v', markevery = 5)\n",
    "plt.plot(byrdie_axis_200, ByRDiE_b4, marker = '.', markevery = 200)\n",
    "plt.plot(DGD_axis[:100], bridge_b2[:100], marker = 'p', markevery = 5)\n",
    "plt.plot(DGD_axis[:100], median_b4[:100], marker = 's', markevery = 5)\n",
    "plt.plot(DGD_axis[:100], krum_b2[:100], marker = '*', markevery = 5)\n",
    "plt.plot(DGD_axis[:100], bulyan_b2[:100], marker = 'x', markevery = 5)\n",
    "plt.xlabel('Scalar messages broadcasted')\n",
    "plt.ylabel('Accuracy')\n",
    "plt.legend(['DGD', 'ByRDiE', 'BRIDGE', 'Median', 'Krum', 'Bulyan'], loc = 'right')\n",
    "plot_b2.set_title('(b) 2 Byzantine nodes with parameter b=2', y=-0.15)\n",
    "\n",
    "f.savefig('decentralized_plot.pdf')\n",
    "plt.show()"
   ]
  },
  {
   "cell_type": "code",
   "execution_count": 29,
   "metadata": {},
   "outputs": [
    {
     "data": {
      "image/png": "[encoded data removed]",
      "text/plain": [
       "<Figure size 1080x360 with 2 Axes>"
      ]
     },
     "metadata": {
      "needs_background": "light"
     },
     "output_type": "display_data"
    }
   ],
   "source": [
    "f = plt.figure(1)\n",
    "f.set_figheight(5)\n",
    "f.set_figwidth(15)\n",
    "\n",
    "plt.subplot(1,2,1)\n",
    "plt.plot(byrdie_axis_200, m)\n",
    "plt.plot(DGD_axis[1:100], bridge_b4[1:100])\n",
    "plt.plot(DGD_axis[1:100], bridge_faultless[1:100])\n",
    "plt.plot(DGD_axis[1:100], DGD_faultless[1:100])\n",
    "plt.xlabel('Communication iteration')\n",
    "plt.ylabel('Accuracy')\n",
    "plt.legend(['ByRDiE, b=4', 'BRIDGE, b=4', 'BRIDGE, b=0', 'DGD, b=0'], loc = 'right')\n",
    "\n",
    "\n",
    "plt.subplot(1,2,2)\n",
    "plt.plot(byrdie_axis_200, m)\n",
    "plt.plot(DGD_axis[1:100], bridge_b4[1:100])\n",
    "plt.plot(DGD_axis[1:100], bridge_faultless[1:100])\n",
    "plt.plot(DGD_axis[1:100], DGD_faultless[1:100])\n",
    "plt.xlabel('Communication iteration')\n",
    "plt.ylabel('Accuracy')\n",
    "plt.legend(['ByRDiE, b=4', 'BRIDGE, b=4', 'BRIDGE, b=0', 'DGD, b=0'], loc = 'right')\n",
    "\n",
    "f.savefig('decentralized_plot.pdf')\n",
    "plt.show()"
   ]
  },
  {
   "cell_type": "code",
   "execution_count": 2,
   "metadata": {},
   "outputs": [
    {
     "data": {
      "image/png": "[encoded data removed]",
      "text/plain": [
       "<Figure size 432x288 with 1 Axes>"
      ]
     },
     "metadata": {
      "needs_background": "light"
     },
     "output_type": "display_data"
    }
   ],
   "source": [
    "import numpy as np\n",
    "import pickle\n",
    "import matplotlib.pyplot as plt\n",
    "smooth_bridge_faultless = []\n",
    "smooth_bridge_b2 = []\n",
    "smooth_dgd_faultless = []\n",
    "smooth_krum_faultless = []\n",
    "smooth_bulyan_faultless = []\n",
    "smooth_dgd_b2 = []\n",
    "smooth_krum_b2 = []\n",
    "smooth_bulyan_b2 = []\n",
    "smooth_byrdie_faultless = []\n",
    "\n",
    "for test_round in range(10):\n",
    "    with open('./ByRDiE/ByRDiE_faultless_9%d.pickle'%test_round, 'rb') as handle:       \n",
    "        smooth_byrdie_faultless.append(pickle.load(handle, encoding='latin1'))\n",
    "\n",
    "for test_round in range(10):\n",
    "    with open('./BRIDGE/result_BRIDGE_faultless%d.pickle'%test_round, 'rb') as handle:       \n",
    "        smooth_bridge_faultless.append(pickle.load(handle))\n",
    "for test_round in range(10):\n",
    "    with open('./BRIDGE/result_BRIDGE_b2_%d.pickle'%test_round, 'rb') as handle:       \n",
    "        smooth_bridge_b2.append(pickle.load(handle))\n",
    "for test_round in range(10):\n",
    "    with open('./DGD/result_DGD_faultless%d.pickle'%test_round, 'rb') as handle:       \n",
    "        smooth_dgd_faultless.append(pickle.load(handle))\n",
    "for test_round in range(10):\n",
    "    with open('./DGD/result_DGD_b2_%d.pickle'%test_round, 'rb') as handle:       \n",
    "        smooth_dgd_b2.append(pickle.load(handle))\n",
    "for test_round in range(50):\n",
    "    with open('./Krum/result_krum_faultless_%d.pickle'%test_round, 'rb') as handle:       \n",
    "        smooth_krum_faultless.append(pickle.load(handle))\n",
    "for test_round in range(40):\n",
    "    with open('./Krum/result_krum_b2_%d.pickle'%test_round, 'rb') as handle:       \n",
    "        smooth_krum_b2.append(pickle.load(handle))\n",
    "for test_round in range(40):\n",
    "    with open('./Bulyan/result_bulyan_faultless_%d.pickle'%test_round, 'rb') as handle:       \n",
    "        smooth_bulyan_faultless.append(pickle.load(handle))\n",
    "for test_round in range(30):\n",
    "    with open('./Bulyan/result_bulyan_b2_%d.pickle'%test_round, 'rb') as handle:       \n",
    "        smooth_bulyan_b2.append(pickle.load(handle))\n",
    "        \n",
    "        \n",
    "byrdie_faultless = np.mean(smooth_byrdie_faultless, axis=0)\n",
    "byrdie_faultless = np.mean(byrdie_faultless, axis=1)\n",
    "bridge_faultless = np.mean(smooth_bridge_faultless, axis=0)\n",
    "bridge_b2 = np.mean(smooth_bridge_b2, axis=0)\n",
    "dgd_faultless = np.mean(smooth_dgd_faultless, axis=0)\n",
    "dgd_b2 = np.mean(smooth_dgd_b2, axis=0)\n",
    "krum_faultless = np.mean(smooth_krum_faultless, axis=0)\n",
    "krum_b2 = np.mean(smooth_krum_b2, axis=0)\n",
    "bulyan_faultless = np.mean(smooth_bulyan_faultless, axis=0)\n",
    "bulyan_b2 = np.mean(smooth_bulyan_b2, axis=0)\n",
    "plt.plot(bridge_faultless)\n",
    "plt.plot(bridge_b2)\n",
    "plt.plot(dgd_faultless)\n",
    "plt.plot(krum_faultless)\n",
    "plt.plot(krum_b2)\n",
    "plt.plot(bulyan_faultless)\n",
    "plt.plot(bulyan_b2)\n",
    "plt.plot(dgd_b2)\n",
    "plt.show()"
   ]
  },
  {
   "cell_type": "code",
   "execution_count": 26,
   "metadata": {},
   "outputs": [
    {
     "ename": "FileNotFoundError",
     "evalue": "[Errno 2] No such file or directory: './DGD/result_DGD_b2_0.pickle'",
     "output_type": "error",
     "traceback": [
      "\u001b[0;31m---------------------------------------------------------------------------\u001b[0m",
      "\u001b[0;31mFileNotFoundError\u001b[0m                         Traceback (most recent call last)",
      "\u001b[0;32m<ipython-input-26-87bf11424f87>\u001b[0m in \u001b[0;36m<module>\u001b[0;34m\u001b[0m\n\u001b[1;32m      6\u001b[0m \u001b[0;34m\u001b[0m\u001b[0m\n\u001b[1;32m      7\u001b[0m \u001b[0;32mfor\u001b[0m \u001b[0mtest_round\u001b[0m \u001b[0;32min\u001b[0m \u001b[0mrange\u001b[0m\u001b[0;34m(\u001b[0m\u001b[0;36m10\u001b[0m\u001b[0;34m)\u001b[0m\u001b[0;34m:\u001b[0m\u001b[0;34m\u001b[0m\u001b[0;34m\u001b[0m\u001b[0m\n\u001b[0;32m----> 8\u001b[0;31m     \u001b[0;32mwith\u001b[0m \u001b[0mopen\u001b[0m\u001b[0;34m(\u001b[0m\u001b[0;34m'./DGD/result_DGD_b2_%d.pickle'\u001b[0m\u001b[0;34m%\u001b[0m\u001b[0mtest_round\u001b[0m\u001b[0;34m,\u001b[0m \u001b[0;34m'rb'\u001b[0m\u001b[0;34m)\u001b[0m \u001b[0;32mas\u001b[0m \u001b[0mhandle\u001b[0m\u001b[0;34m:\u001b[0m\u001b[0;34m\u001b[0m\u001b[0;34m\u001b[0m\u001b[0m\n\u001b[0m\u001b[1;32m      9\u001b[0m         \u001b[0msmooth_dgd_b2\u001b[0m\u001b[0;34m.\u001b[0m\u001b[0mappend\u001b[0m\u001b[0;34m(\u001b[0m\u001b[0mpickle\u001b[0m\u001b[0;34m.\u001b[0m\u001b[0mload\u001b[0m\u001b[0;34m(\u001b[0m\u001b[0mhandle\u001b[0m\u001b[0;34m)\u001b[0m\u001b[0;34m)\u001b[0m\u001b[0;34m\u001b[0m\u001b[0;34m\u001b[0m\u001b[0m\n\u001b[1;32m     10\u001b[0m \u001b[0;34m\u001b[0m\u001b[0m\n",
      "\u001b[0;31mFileNotFoundError\u001b[0m: [Errno 2] No such file or directory: './DGD/result_DGD_b2_0.pickle'"
     ]
    }
   ],
   "source": [
    "#plot\n",
    "\n",
    "import pickle\n",
    "import matplotlib.pyplot as plt\n",
    "import numpy as np\n",
    "\n",
    "for test_round in range(10):\n",
    "    with open('./DGD/result_DGD_b2_%d.pickle'%test_round, 'rb') as handle:       \n",
    "        smooth_dgd_b2.append(pickle.load(handle))\n",
    "\n",
    "dgd_b2 = np.mean(smooth_dgd_b2, axis=0)\n",
    "\n",
    "with open('result_BRIDGE_faultless.pickle', 'rb') as handle:\n",
    "    bridge_faultless = pickle.load(handle)\n",
    "\n",
    "# with open('result_BRIDGE_b4.pickle', 'rb') as handle:\n",
    "#     bridge_b4 = pickle.load(handle)\n",
    "    \n",
    "with open('result_DGD_faultless.pickle', 'rb') as handle:\n",
    "    DGD_faultless = pickle.load(handle)  \n",
    "    \n",
    "with open('result_median_faultless.pickle', 'rb') as handle:\n",
    "    median_faultless = pickle.load(handle) \n",
    "    \n",
    "with open('result_median_b4.pickle', 'rb') as handle:\n",
    "    median_b4 = pickle.load(handle)  \n",
    "    \n",
    "with open('./ByRDiE/ByRDiE_faultless_93.pickle', 'rb') as handle:\n",
    "    ByRDiE_b4 = pickle.load(handle, encoding='latin1') \n",
    "\n",
    "ByRDiE_b4 = np.mean(ByRDiE_b4, axis = 1)\n",
    "\n",
    "# with open('result_ByRDiE_faultless.pickle', 'rb') as handle:\n",
    "#     ByRDiE_faultless = pickle.load(handle)\n",
    "\n",
    "with open('./ByRDiE/ByRDiE_faultless_0.pickle', 'rb') as handle:\n",
    "    #(4000,20) list\n",
    "    ByRDiE_faultless = pickle.load(handle)\n",
    "#(4000,) list\n",
    "byrdie_faultless = np.mean(ByRDiE_faultless, axis = 1)\n",
    "\n",
    "\n",
    "# with open('result_DGD_b4.pickle', 'rb') as handle:\n",
    "#     DGD_b4 = pickle.load(handle)  \n",
    "\n",
    "# with open('result_krum_b2.pickle', 'rb') as handle:\n",
    "#     krum_b2 = pickle.load(handle) \n",
    "    \n",
    "with open('result_krum_faultless.pickle', 'rb') as handle:\n",
    "    krum_faultless = pickle.load(handle) \n",
    "    \n",
    "# with open('result_bulyan_b2.pickle', 'rb') as handle:\n",
    "#     bulyan_b2 = pickle.load(handle) \n",
    "    \n",
    "with open('result_bulyan_faultless.pickle', 'rb') as handle:\n",
    "    bulyan_faultless = pickle.load(handle) \n",
    "    \n",
    "byrdie_axis_200 = []\n",
    "for t in range(100):\n",
    "    for p in range(39):\n",
    "        byrdie_axis_200.append(t * 7840 + (p+1) * 200)\n",
    "    for p in range(10):\n",
    "        byrdie_axis_200.append((t+1) * 7840 + p)\n",
    "        \n",
    "DGD_axis = [7840 * t  for t in range(100)]\n",
    "\n",
    "    \n",
    "byrdie_axis_b1 = []\n",
    "for t in range(100):\n",
    "    for p in range(39):\n",
    "        byrdie_axis_b1.append(t * 7840 + (p+1) * 200)\n",
    "    for p in range(10, 11):\n",
    "        byrdie_axis_b1.append((t+1) * 7840 + p)\n",
    "\n",
    "        \n",
    "f = plt.figure(1)\n",
    "f.set_figheight(6)\n",
    "f.set_figwidth(15)\n",
    "\n",
    "plot_b0 = plt.subplot(1,2,1)\n",
    "plt.plot(DGD_axis[:100], np.array(DGD_faultless[:100]) * 100, marker = 'v', markevery = 5)\n",
    "# plt.plot(byrdie_axis_200, np.array(ByRDiE_faultless) * 100, marker = '.', markevery = 200)\n",
    "plt.plot(byrdie_axis_b1[:3960], np.array(byrdie_faultless[:3960]) * 100, marker = '.', markevery = 200)\n",
    "plt.plot(DGD_axis[:100], np.array(bridge_faultless[:100]) * 100, marker = 'p', markevery = 5)\n",
    "plt.plot(DGD_axis[:100], np.array(median_faultless[:100]) * 100, marker = 's', markevery = 5)\n",
    "plt.plot(DGD_axis[:100], np.array(krum_faultless[:100]) * 100, marker = '*', markevery = 5)\n",
    "plt.plot(DGD_axis[:100], np.array(bulyan_faultless[:100]) * 100, marker = 'x', markevery = 5)\n",
    "plt.xlabel('Number of Scalars Broadcast per Node')\n",
    "plt.ylim(5,90)\n",
    "plt.ylabel('Average Classification Accuracy (%)')\n",
    "plt.legend(['DGD', 'ByRDiE', 'BRIDGE-T', 'BRIDGE-M', 'BRIDGE-K', 'BRIDGE-B'], loc = 'right')\n",
    "# plot_b0.set_title('Network with no Byzantine node', y=-0.15)\n",
    "\n",
    "\n",
    "plot_b2 = plt.subplot(1,2,2)\n",
    "plt.plot(DGD_axis[:100], np.array(dgd_b2[:100]) * 100, marker = 'v', markevery = 5)\n",
    "plt.plot(byrdie_axis_b1[:3960], np.array(ByRDiE_b4) * 100, marker = '.', markevery = 200)\n",
    "plt.plot(DGD_axis[:100], np.array(bridge_b2[:100]) * 100, marker = 'p', markevery = 5)\n",
    "plt.plot(DGD_axis[:100], np.array(median_b4[:100]) * 100, marker = 's', markevery = 5)\n",
    "plt.plot(DGD_axis[:100], np.array(krum_b2[:100]) * 100, marker = '*', markevery = 5)\n",
    "plt.plot(DGD_axis[:100], np.array(bulyan_b2[:100]) * 100, marker = 'x', markevery = 5)\n",
    "plt.xlabel('Number of Scalars Broadcast per Node')\n",
    "plt.ylim(5,90)\n",
    "plt.ylabel('Average Classification Accuracy (%)')\n",
    "plt.legend(['DGD', 'ByRDiE', 'BRIDGE-T', 'BRIDGE-M', 'BRIDGE-K', 'BRIDGE-B'], loc = 'right')\n",
    "# plot_b2.set_title('Network with 2 Byzantine nodes', y=-0.15)\n",
    "\n",
    "f.savefig('decentralized_plot.pdf', bbox_inches = 'tight')\n",
    "f.savefig('test_png.png', dpi=300)\n",
    "plt.show()"
   ]
  },
  {
   "cell_type": "code",
   "execution_count": 29,
   "metadata": {},
   "outputs": [
    {
     "name": "stdout",
     "output_type": "stream",
     "text": [
      "20\n",
      "20\n",
      "[0.7975, 0.8015, 0.7886, 0.7916, 0.7842, 0.7963, 0.7914, 0.7921, 0.7992, 0.7938, 0.7884, 0.7873, 0.789, 0.7893, 0.7908, 0.7904, 0.7895, 0.7923, 0.7812, 0.7921]\n",
      "[0.7254, 0.726, 0.7233, 0.7208, 0.718, 0.728, 0.7221, 0.7217, 0.7156, 0.7011, 0.7224, 0.7165, 0.7238, 0.7298, 0.7231, 0.7098, 0.7218, 0.7149, 0.726, 0.7269]\n",
      "[0.7882, 0.7741, 0.7864, 0.7931, 0.783, 0.783, 0.7831, 0.7843, 0.7852, 0.7759, 0.7814, 0.7741, 0.7841, 0.7691, 0.788, 0.7912, 0.7744, 0.7797, 0.7801, 0.7765]\n"
     ]
    }
   ],
   "source": [
    "with open('./ByRDiE/ByRDiE_faultless_94.pickle', 'rb') as handle:       \n",
    "    acc_1 = pickle.load(handle, encoding='latin1')\n",
    "    \n",
    "with open('./ByRDiE/ByRDiE_b4_84.pickle', 'rb') as handle:       \n",
    "    acc_2 = pickle.load(handle, encoding='latin1')\n",
    "    \n",
    "with open('./ByRDiE/ByRDiE_b4_82.pickle', 'rb') as handle:       \n",
    "    acc_3 = pickle.load(handle, encoding='latin1')\n",
    "\n",
    "print(len(acc_1[-1]))\n",
    "print(len(acc_2[-1]))\n",
    "\n",
    "print(acc_1[3600])\n",
    "print(acc_2[-1])\n",
    "print(acc_3[-1])\n"
   ]
  },
  {
   "cell_type": "code",
   "execution_count": 5,
   "metadata": {},
   "outputs": [],
   "source": [
    "with open('result_ByRDiE_faultless.pickle', 'rb') as handle:\n",
    "    ByRDiE_faultless = pickle.load(handle)"
   ]
  },
  {
   "cell_type": "code",
   "execution_count": 6,
   "metadata": {},
   "outputs": [
    {
     "data": {
      "text/plain": [
       "4900"
      ]
     },
     "execution_count": 6,
     "metadata": {},
     "output_type": "execute_result"
    }
   ],
   "source": [
    "len(ByRDiE_faultless)"
   ]
  },
  {
   "cell_type": "code",
   "execution_count": 7,
   "metadata": {},
   "outputs": [
    {
     "data": {
      "text/plain": [
       "20"
      ]
     },
     "execution_count": 7,
     "metadata": {},
     "output_type": "execute_result"
    }
   ],
   "source": [
    "len(ByRDiE_faultless[0])"
   ]
  },
  {
   "cell_type": "code",
   "execution_count": 8,
   "metadata": {},
   "outputs": [
    {
     "data": {
      "text/plain": [
       "20"
      ]
     },
     "execution_count": 8,
     "metadata": {},
     "output_type": "execute_result"
    }
   ],
   "source": [
    "len(ByRDiE_faultless[1])"
   ]
  },
  {
   "cell_type": "code",
   "execution_count": 12,
   "metadata": {},
   "outputs": [
    {
     "data": {
      "text/plain": [
       "True"
      ]
     },
     "execution_count": 12,
     "metadata": {},
     "output_type": "execute_result"
    }
   ],
   "source": [
    "all([len(faultlessByRDiE) == 20 for faultlessByRDiE in ByRDiE_faultless])"
   ]
  },
  {
   "cell_type": "code",
   "execution_count": 13,
   "metadata": {},
   "outputs": [],
   "source": [
    "numpyByRDiE = np.array(ByRDiE_faultless)"
   ]
  },
  {
   "cell_type": "code",
   "execution_count": 14,
   "metadata": {},
   "outputs": [
    {
     "data": {
      "text/plain": [
       "(4900, 20)"
      ]
     },
     "execution_count": 14,
     "metadata": {},
     "output_type": "execute_result"
    }
   ],
   "source": [
    "numpyByRDiE.shape"
   ]
  },
  {
   "cell_type": "code",
   "execution_count": 15,
   "metadata": {},
   "outputs": [],
   "source": [
    "with open('./ByRDiE/ByRDiE_faultless_0.pickle','rb') as handle:\n",
    "    ByRDiE_faultless = pickle.load(handle)"
   ]
  },
  {
   "cell_type": "code",
   "execution_count": 16,
   "metadata": {},
   "outputs": [],
   "source": [
    "ByRDiE_faultless = np.array(ByRDiE_faultless)"
   ]
  },
  {
   "cell_type": "code",
   "execution_count": 17,
   "metadata": {},
   "outputs": [
    {
     "data": {
      "text/plain": [
       "(4000, 20)"
      ]
     },
     "execution_count": 17,
     "metadata": {},
     "output_type": "execute_result"
    }
   ],
   "source": [
    "ByRDiE_faultless.shape"
   ]
  },
  {
   "cell_type": "code",
   "execution_count": 18,
   "metadata": {},
   "outputs": [
    {
     "data": {
      "text/plain": [
       "(4000,)"
      ]
     },
     "execution_count": 18,
     "metadata": {},
     "output_type": "execute_result"
    }
   ],
   "source": [
    "np.mean(ByRDiE_faultless,axis=1).shape"
   ]
  },
  {
   "cell_type": "code",
   "execution_count": 19,
   "metadata": {},
   "outputs": [
    {
     "data": {
      "text/plain": [
       "(100,)"
      ]
     },
     "execution_count": 19,
     "metadata": {},
     "output_type": "execute_result"
    }
   ],
   "source": [
    "np.array(median_b4).shape"
   ]
  },
  {
   "cell_type": "code",
   "execution_count": 21,
   "metadata": {},
   "outputs": [
    {
     "data": {
      "text/plain": [
       "4000"
      ]
     },
     "execution_count": 21,
     "metadata": {},
     "output_type": "execute_result"
    }
   ],
   "source": [
    "len(byrdie_axis_b1)"
   ]
  },
  {
   "cell_type": "code",
   "execution_count": 24,
   "metadata": {},
   "outputs": [
    {
     "data": {
      "text/plain": [
       "(4000,)"
      ]
     },
     "execution_count": 24,
     "metadata": {},
     "output_type": "execute_result"
    }
   ],
   "source": [
    "(np.mean(ByRDiE_faultless*100,axis=1)).shape"
   ]
  },
  {
   "cell_type": "code",
   "execution_count": null,
   "metadata": {},
   "outputs": [],
   "source": []
  }
 ],
 "metadata": {
  "kernelspec": {
   "display_name": "Python 3",
   "language": "python",
   "name": "python3"
  },
  "language_info": {
   "codemirror_mode": {
    "name": "ipython",
    "version": 3
   },
   "file_extension": ".py",
   "mimetype": "text/x-python",
   "name": "python",
   "nbconvert_exporter": "python",
   "pygments_lexer": "ipython3",
   "version": "3.7.3"
  }
 },
 "nbformat": 4,
 "nbformat_minor": 2
}
